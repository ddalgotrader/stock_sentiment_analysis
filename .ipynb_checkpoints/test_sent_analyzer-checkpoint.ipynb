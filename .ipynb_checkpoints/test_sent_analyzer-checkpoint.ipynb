{
 "cells": [
  {
   "cell_type": "code",
   "execution_count": 1,
   "id": "ea29c612",
   "metadata": {},
   "outputs": [],
   "source": [
    "from SentimentAnalyzer import *"
   ]
  },
  {
   "cell_type": "code",
   "execution_count": 2,
   "id": "d8eb5aed",
   "metadata": {},
   "outputs": [],
   "source": [
    "apikey='<YOUR_FMP_API_KEY>'"
   ]
  },
  {
   "cell_type": "code",
   "execution_count": 3,
   "id": "f54d1278",
   "metadata": {},
   "outputs": [
    {
     "name": "stdout",
     "output_type": "stream",
     "text": [
      "Connected\n"
     ]
    }
   ],
   "source": [
    "sa=SentimentAnalyzer(apikey, 'BA')"
   ]
  },
  {
   "cell_type": "code",
   "execution_count": null,
   "id": "50c880b9",
   "metadata": {},
   "outputs": [
    {
     "name": "stdout",
     "output_type": "stream",
     "text": [
      "FMP API plan ok\n",
      "Calculating sentiment for data from 1.2024\n",
      "Calculating sentiment for data from 12.2023\n",
      "Calculating sentiment for data from 11.2023\n",
      "Calculating sentiment for data from 10.2023\n",
      "Calculating sentiment for data from 9.2023\n",
      "Calculating sentiment for data from 8.2023\n"
     ]
    }
   ],
   "source": [
    "sa.get_stock_news_sentiment(start_date='2023-01-01')"
   ]
  },
  {
   "cell_type": "code",
   "execution_count": null,
   "id": "fb3f70ab",
   "metadata": {},
   "outputs": [],
   "source": [
    "sa.calculate_rsenti(window=20)"
   ]
  },
  {
   "cell_type": "code",
   "execution_count": null,
   "id": "dfcd11f3",
   "metadata": {},
   "outputs": [],
   "source": [
    "sa.stock_news_sent_df.iloc[25:30]"
   ]
  },
  {
   "cell_type": "code",
   "execution_count": null,
   "id": "cae23433",
   "metadata": {
    "scrolled": true
   },
   "outputs": [],
   "source": [
    "sa.plot_rsenti()"
   ]
  },
  {
   "cell_type": "code",
   "execution_count": null,
   "id": "f0be15d0",
   "metadata": {},
   "outputs": [],
   "source": [
    "sa.get_social_sentiment(start_date='2023-01-01')"
   ]
  },
  {
   "cell_type": "code",
   "execution_count": null,
   "id": "2aaf6a59",
   "metadata": {},
   "outputs": [],
   "source": [
    "sa.social_sent_df"
   ]
  },
  {
   "cell_type": "code",
   "execution_count": null,
   "id": "6106b653",
   "metadata": {},
   "outputs": [],
   "source": [
    "sa.calculate_socialma(window=50)"
   ]
  },
  {
   "cell_type": "code",
   "execution_count": null,
   "id": "1992f396",
   "metadata": {},
   "outputs": [],
   "source": [
    "sa.plot_socialma()"
   ]
  },
  {
   "cell_type": "code",
   "execution_count": null,
   "id": "f8275915",
   "metadata": {},
   "outputs": [],
   "source": [
    "help(sa.plot_social_stats)"
   ]
  },
  {
   "cell_type": "code",
   "execution_count": null,
   "id": "cc179e62",
   "metadata": {},
   "outputs": [],
   "source": [
    "sa.plot_social_stats(['posts','likes', 'comments', 'impressions'], period='W')"
   ]
  },
  {
   "cell_type": "code",
   "execution_count": null,
   "id": "7d62d67e",
   "metadata": {},
   "outputs": [],
   "source": [
    "sa.social_sent_df.info()"
   ]
  },
  {
   "cell_type": "code",
   "execution_count": null,
   "id": "5fd5ee0b",
   "metadata": {},
   "outputs": [],
   "source": [
    "sa.stock_news_sent_df.loc['2024-01-02':'2024-01-10']"
   ]
  },
  {
   "cell_type": "code",
   "execution_count": null,
   "id": "aa9f3b98",
   "metadata": {},
   "outputs": [],
   "source": [
    "sa.stock_news_sent_df.loc['2024-01-10 16:08:07']"
   ]
  },
  {
   "cell_type": "code",
   "execution_count": null,
   "id": "a578bdbd",
   "metadata": {},
   "outputs": [],
   "source": [
    "sa.stock_news_sent_df.loc['2024-01-10 16:08:07','text']"
   ]
  },
  {
   "cell_type": "code",
   "execution_count": null,
   "id": "df1b8942",
   "metadata": {},
   "outputs": [],
   "source": []
  }
 ],
 "metadata": {
  "kernelspec": {
   "display_name": "Python 3 (ipykernel)",
   "language": "python",
   "name": "python3"
  },
  "language_info": {
   "codemirror_mode": {
    "name": "ipython",
    "version": 3
   },
   "file_extension": ".py",
   "mimetype": "text/x-python",
   "name": "python",
   "nbconvert_exporter": "python",
   "pygments_lexer": "ipython3",
   "version": "3.10.12"
  }
 },
 "nbformat": 4,
 "nbformat_minor": 5
}
